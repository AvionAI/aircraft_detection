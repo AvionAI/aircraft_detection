{
  "cells": [
    {
      "cell_type": "code",
      "execution_count": 1,
      "metadata": {
        "colab": {
          "base_uri": "https://localhost:8080/"
        },
        "id": "1_iq03MCpS94",
        "outputId": "f6881934-c78a-4885-c0b4-a2b33381947c"
      },
      "outputs": [
        {
          "name": "stdout",
          "output_type": "stream",
          "text": [
            "Checking setup...\n"
          ]
        },
        {
          "ename": "ModuleNotFoundError",
          "evalue": "No module named 'utils.general'",
          "output_type": "error",
          "traceback": [
            "\u001b[0;31m---------------------------------------------------------------------------\u001b[0m",
            "\u001b[0;31mModuleNotFoundError\u001b[0m                       Traceback (most recent call last)",
            "\u001b[0;32m/tmp/ipykernel_229977/2550383065.py\u001b[0m in \u001b[0;36m<module>\u001b[0;34m\u001b[0m\n\u001b[1;32m      1\u001b[0m \u001b[0;32mimport\u001b[0m \u001b[0mtorch\u001b[0m\u001b[0;34m\u001b[0m\u001b[0;34m\u001b[0m\u001b[0m\n\u001b[1;32m      2\u001b[0m \u001b[0;32mfrom\u001b[0m \u001b[0myolov5\u001b[0m \u001b[0;32mimport\u001b[0m \u001b[0mutils\u001b[0m\u001b[0;34m\u001b[0m\u001b[0;34m\u001b[0m\u001b[0m\n\u001b[0;32m----> 3\u001b[0;31m \u001b[0mdisplay\u001b[0m \u001b[0;34m=\u001b[0m \u001b[0mutils\u001b[0m\u001b[0;34m.\u001b[0m\u001b[0mnotebook_init\u001b[0m\u001b[0;34m(\u001b[0m\u001b[0;34m)\u001b[0m  \u001b[0;31m# checks\u001b[0m\u001b[0;34m\u001b[0m\u001b[0;34m\u001b[0m\u001b[0m\n\u001b[0m",
            "\u001b[0;32m~/Desktop/Avion/aircraft_detection/yolov5/utils/__init__.py\u001b[0m in \u001b[0;36mnotebook_init\u001b[0;34m(verbose)\u001b[0m\n\u001b[1;32m     12\u001b[0m     \u001b[0;32mimport\u001b[0m \u001b[0mshutil\u001b[0m\u001b[0;34m\u001b[0m\u001b[0;34m\u001b[0m\u001b[0m\n\u001b[1;32m     13\u001b[0m \u001b[0;34m\u001b[0m\u001b[0m\n\u001b[0;32m---> 14\u001b[0;31m     \u001b[0;32mfrom\u001b[0m \u001b[0mutils\u001b[0m\u001b[0;34m.\u001b[0m\u001b[0mgeneral\u001b[0m \u001b[0;32mimport\u001b[0m \u001b[0mcheck_requirements\u001b[0m\u001b[0;34m,\u001b[0m \u001b[0memojis\u001b[0m\u001b[0;34m,\u001b[0m \u001b[0mis_colab\u001b[0m\u001b[0;34m\u001b[0m\u001b[0;34m\u001b[0m\u001b[0m\n\u001b[0m\u001b[1;32m     15\u001b[0m     \u001b[0;32mfrom\u001b[0m \u001b[0mutils\u001b[0m\u001b[0;34m.\u001b[0m\u001b[0mtorch_utils\u001b[0m \u001b[0;32mimport\u001b[0m \u001b[0mselect_device\u001b[0m  \u001b[0;31m# imports\u001b[0m\u001b[0;34m\u001b[0m\u001b[0;34m\u001b[0m\u001b[0m\n\u001b[1;32m     16\u001b[0m \u001b[0;34m\u001b[0m\u001b[0m\n",
            "\u001b[0;31mModuleNotFoundError\u001b[0m: No module named 'utils.general'"
          ]
        }
      ],
      "source": [
        "import torch\n",
        "from yolov5 import utils\n",
        "display = utils.notebook_init()  # checks"
      ]
    },
    {
      "cell_type": "code",
      "execution_count": null,
      "metadata": {
        "id": "fdkRzjGzp585"
      },
      "outputs": [],
      "source": [
        "!touch /content/custom_data.yaml"
      ]
    },
    {
      "cell_type": "code",
      "execution_count": 39,
      "metadata": {
        "colab": {
          "base_uri": "https://localhost:8080/"
        },
        "id": "X8vn_W7UsYvh",
        "outputId": "36a279a5-929a-4f8b-a06a-ca004180c82d"
      },
      "outputs": [
        {
          "name": "stdout",
          "output_type": "stream",
          "text": [
            "('0a66768d2d566e9bbbc426354db65277.txt', ('0', '0.5865', '0.6642', '0.125', '0.093'))\n",
            "('0a66768d2d566e9bbbc426354db65277.txt', ('0', '0.478', '0.563', '0.132', '0.0975'))\n",
            "('0a66768d2d566e9bbbc426354db65277.txt', ('0', '0.3695', '0.4708', '0.133', '0.099'))\n",
            "('0a66768d2d566e9bbbc426354db65277.txt', ('0', '0.271', '0.3823', '0.138', '0.1049'))\n"
          ]
        }
      ],
      "source": [
        "import os\n",
        "import pandas as pd\n",
        "sample_path = \"/home/muratbayrktr/Desktop/Avion/aircraft_detection/archive/dataset/dataset/0a66768d2d566e9bbbc426354db65277.csv\"\n",
        "labels = {\"A10\":0, \"A400M\":1,\"AG600\":2, \"B1\":3, \"B2\":4, \"B52\":5,\"Be200\":6, \"C130\":7, \"C17\":8, \"C5\":9, \"E2\":10, \"EF2000\":11, \"F117\":12, \"F14\":13, \"F15\":14, \"F16\":15, \"F18\":16, \"F22\":17, \"F35\":18, \"F4\":19, \"J20\":20, \"JAS39\":21, \"MQ9\":22, \"Mig31\":23, \"Mirage2000\":24, \"RQ4\":25, \"Rafale\":26, \"SR71\":27, \"Su57\":28, \"Tu160\":29, \"Tu95\":30, \"U2\":31, \"US2\":32, \"V22\":33, \"XB70\":34, \"YF23\":35}\n",
        "\n",
        "def process_csv(path, label_dict):\n",
        "    f = pd.read_csv(path)\n",
        "    list_of_segments = []\n",
        "    for i in range(len(f)):\n",
        "        name = f.loc[i, \"filename\"] + \".txt\"\n",
        "        width = f.loc[i, \"width\"]\n",
        "        try:\n",
        "            clas = labels[f.loc[i, \"class\"]]\n",
        "        except:\n",
        "            print(\"ERROR: Class couldn't found for {}. Assigning -1.\".format(name))\n",
        "            clas = -1  \n",
        "        height = f.loc[i, \"height\"]\n",
        "        xmin = f.loc[i,\"xmin\"]\n",
        "        xmax = f.loc[i,\"xmax\"]\n",
        "        ymin = f.loc[i,\"ymin\"]\n",
        "        ymax = f.loc[i,\"ymax\"]\n",
        "\n",
        "        centerx=round(((xmin+xmax)/2)/width,4)\n",
        "        centery=round(((ymin+ymax)/2)/height,4)\n",
        "        new_width=round((xmax-xmin)/width,4)\n",
        "        new_height=round((ymax-ymin)/height,4)\n",
        "\n",
        "        #Write \n",
        "        list_of_segments.append((name, (str(clas), str(centerx), str(centery), str(new_width), str(new_height))))\n",
        "    return list_of_segments\n",
        "\n",
        "x = process_csv(sample_path,labels)\n",
        "for i in x:\n",
        "    print(i)\n",
        "\n"
      ]
    },
    {
      "cell_type": "code",
      "execution_count": 48,
      "metadata": {},
      "outputs": [],
      "source": [
        "x = process_csv(sample_path,labels)\n",
        "\n",
        "def write_yolov5(val_list, path):\n",
        "    f = open(path + \"/\" +  val_list[0][0], \"a\")\n",
        "    for annotation in val_list:\n",
        "        string = \" \".join(annotation[1])\n",
        "        f.write(string); f.write(\"\\n\");\n",
        "    f.close()\n",
        "\n",
        "write_yolov5(x, \"/home/muratbayrktr/Desktop/Avion/aircraft_detection/archive/dataset/dataset_yolov5\")"
      ]
    },
    {
      "cell_type": "code",
      "execution_count": 87,
      "metadata": {
        "id": "FDGQZZ0HtZHJ"
      },
      "outputs": [
        {
          "name": "stderr",
          "output_type": "stream",
          "text": [
            "Loading…: 100%|█████████████████████| 10586/10586 [00:32<00:00, 323.06it/s]\n"
          ]
        }
      ],
      "source": [
        "# python path/to/train.py --data coco128.yaml --weights yolov5s.pt --img 640\n",
        "read_path = \"/home/muratbayrktr/Desktop/Avion/aircraft_detection/archive/dataset/dataset\"\n",
        "write_path = \"/home/muratbayrktr/Desktop/Avion/aircraft_detection/archive/dataset/dataset_yolov5\"\n",
        "\n",
        "\n",
        "from tqdm import tqdm\n",
        "for file in tqdm (os.listdir(read_path), desc=\"Loading…\", ascii=False, ncols=75):\n",
        "    if os.path.isfile(os.path.join(read_path, file)) and file.endswith(\".csv\"):\n",
        "        abs_path = read_path + \"/\" + file\n",
        "        #print(\"Processing: \", abs_path)\n",
        "        yolov5_vals = process_csv(path=abs_path, label_dict=labels)\n",
        "        #print(\"Processed: \\n\",yolov5_vals)\n",
        "        image_path = abs_path[:-3] + \"jpg \" + write_path + \"/images/\" + file[:-3] + \"jpg\"\n",
        "        label_path = write_path + \"/labels/\" \n",
        "        os.system('cp ' + image_path)\n",
        "        write_yolov5(val_list=yolov5_vals, path=label_path)\n",
        "        #print(\"Writing to file {}\\n\".format(yolov5_vals[0][0]+\".txt\"))"
      ]
    },
    {
      "cell_type": "code",
      "execution_count": 88,
      "metadata": {
        "id": "hJM-1qpBvtsX"
      },
      "outputs": [],
      "source": [
        "def moveFilesToVal(file_name):\n",
        "  basename = os.path.basename(file_name)\n",
        "  basename_no_ext = os.path.splitext(basename)[0]\n",
        "  image_name = basename_no_ext + '.jpg'\n",
        "  os.system('mv ./archive/dataset/dataset_yolov5/images/' + image_name + ' ./archive/dataset/dataset_yolov5/images/val' )\n",
        "  os.system('mv ./archive/dataset/dataset_yolov5/labels/' + file_name + ' ./archive/dataset/dataset_yolov5/labels/val' )\n",
        "\n",
        "def moveFilesToTrain(file_name):\n",
        "  basename = os.path.basename(file_name)\n",
        "  basename_no_ext = os.path.splitext(basename)[0]\n",
        "  image_name = basename_no_ext + '.jpg'\n",
        "\n",
        "  os.system('mv ./archive/dataset/dataset_yolov5/images/' + image_name + ' ./archive/dataset/dataset_yolov5/images/train' )\n",
        "  os.system('mv ./archive/dataset/dataset_yolov5/labels/' + file_name + ' ./archive/dataset/dataset_yolov5/labels/train' )\n",
        "\n",
        "\n",
        "def arrangeFolder():\n",
        "  dirpath = \"./archive/dataset/dataset_yolov5/labels\"\n",
        "  files = [f for f in os.listdir(dirpath) if os.path.isfile(os.path.join(dirpath, f))] # only files, not include directory\n",
        "  nval = round(len(files) / 5) # use 1/4 as validation\n",
        "\n",
        "  for i in tqdm (range(len(files)), desc=\"Loading…\", ascii=False, ncols=75):\n",
        "    #print(files[i])\n",
        "\n",
        "    if(i < nval):\n",
        "      moveFilesToVal(files[i])  \n",
        "    else:\n",
        "      moveFilesToTrain(files[i])"
      ]
    },
    {
      "cell_type": "code",
      "execution_count": 89,
      "metadata": {
        "id": "QASGDWzVvuFm"
      },
      "outputs": [
        {
          "name": "stderr",
          "output_type": "stream",
          "text": [
            "Loading…: 100%|███████████████████████| 5293/5293 [00:19<00:00, 274.21it/s]\n"
          ]
        }
      ],
      "source": [
        "arrangeFolder()"
      ]
    },
    {
      "cell_type": "markdown",
      "metadata": {},
      "source": [
        "# Now the folder dataset_yolov5 is ready to be used in training"
      ]
    },
    {
      "cell_type": "code",
      "execution_count": 92,
      "metadata": {},
      "outputs": [
        {
          "name": "stdout",
          "output_type": "stream",
          "text": [
            "4237\n",
            "1062\n",
            "4237\n",
            "1062\n"
          ]
        }
      ],
      "source": [
        "!ls -al ./archive/dataset/dataset_yolov5/images/train | wc -l\n",
        "!ls -al ./archive/dataset/dataset_yolov5/images/val | wc -l\n",
        "!ls -al ./archive/dataset/dataset_yolov5/labels/train | wc -l\n",
        "!ls -al ./archive/dataset/dataset_yolov5/labels/val | wc -l"
      ]
    },
    {
      "cell_type": "markdown",
      "metadata": {},
      "source": [
        "# Organize yaml file"
      ]
    },
    {
      "cell_type": "code",
      "execution_count": 109,
      "metadata": {},
      "outputs": [
        {
          "name": "stdout",
          "output_type": "stream",
          "text": [
            "\n",
            "train: ../archive/dataset/dataset_yolov5/images/train  \n",
            "val: ../archive/dataset/dataset_yolov5/images/val \n",
            "\n",
            "nc: 36\n",
            "names: ['A10', 'A400M', 'AG600', 'B1', 'B2', 'B52', 'Be200', 'C130', 'C17', 'C5', 'E2', 'EF2000', 'F117', 'F14', 'F15', 'F16', 'F18', 'F22', 'F35', 'F4', 'J20', 'JAS39', 'MQ9', 'Mig31', 'Mirage2000', 'RQ4', 'Rafale', 'SR71', 'Su57', 'Tu160', 'Tu95', 'U2', 'US2', 'V22', 'XB70', 'YF23']\n"
          ]
        }
      ],
      "source": [
        "#print(\"nc: \", len(labels.keys()))\n",
        "paths = \"\"\"\n",
        "train: ../archive/dataset/dataset_yolov5/images/train  \n",
        "val: ../archive/dataset/dataset_yolov5/images/val \n",
        "\n",
        "\"\"\"\n",
        "labels_str = \"names: [\"\n",
        "\n",
        "for label in labels.keys():\n",
        "    labels_str += '\\'' + label + '\\''\n",
        "    labels_str += \", \"\n",
        "\n",
        "labels_str = labels_str[:-2] + \"]\"\n",
        "#print(labels_str)\n",
        "\n",
        "final_string = paths + \"nc: \" + str(len(labels.keys())) + \"\\n\" + labels_str\n",
        "f = open(\"custom_data.yaml\", \"w\")\n",
        "f.write(final_string)\n",
        "f.close()\n",
        "print(final_string)"
      ]
    },
    {
      "cell_type": "code",
      "execution_count": 110,
      "metadata": {},
      "outputs": [
        {
          "name": "stdout",
          "output_type": "stream",
          "text": [
            "\u001b[34m\u001b[1mtrain: \u001b[0mweights=yolov5s.pt, cfg=, data=./custom_data.yaml, hyp=yolov5/data/hyps/hyp.scratch-low.yaml, epochs=50, batch_size=16, imgsz=640, rect=False, resume=False, nosave=False, noval=False, noautoanchor=False, evolve=None, bucket=, cache=ram, image_weights=False, device=, multi_scale=False, single_cls=False, optimizer=SGD, sync_bn=False, workers=8, project=yolov5/runs/train, name=exp, exist_ok=False, quad=False, cos_lr=False, label_smoothing=0.0, patience=100, freeze=[0], save_period=-1, local_rank=-1, entity=None, upload_dataset=False, bbox_interval=-1, artifact_alias=latest\n",
            "\u001b[34m\u001b[1mgithub: \u001b[0m⚠️ YOLOv5 is out of date by 1 commit. Use `git pull` or `git clone https://github.com/ultralytics/yolov5` to update.\n",
            "YOLOv5 🚀 v6.1-59-gecc2c7b torch 1.11.0+cu102 CUDA:0 (NVIDIA GeForce GTX 1650, 3912MiB)\n",
            "\n",
            "\u001b[34m\u001b[1mhyperparameters: \u001b[0mlr0=0.01, lrf=0.01, momentum=0.937, weight_decay=0.0005, warmup_epochs=3.0, warmup_momentum=0.8, warmup_bias_lr=0.1, box=0.05, cls=0.5, cls_pw=1.0, obj=1.0, obj_pw=1.0, iou_t=0.2, anchor_t=4.0, fl_gamma=0.0, hsv_h=0.015, hsv_s=0.7, hsv_v=0.4, degrees=0.0, translate=0.1, scale=0.5, shear=0.0, perspective=0.0, flipud=0.0, fliplr=0.5, mosaic=1.0, mixup=0.0, copy_paste=0.0\n",
            "\u001b[34m\u001b[1mWeights & Biases: \u001b[0mrun 'pip install wandb' to automatically track and visualize YOLOv5 🚀 runs (RECOMMENDED)\n",
            "\u001b[34m\u001b[1mTensorBoard: \u001b[0mStart with 'tensorboard --logdir yolov5/runs/train', view at http://localhost:6006/\n",
            "Downloading https://github.com/ultralytics/yolov5/releases/download/v6.1/yolov5s.pt to yolov5s.pt...\n",
            "100%|██████████████████████████████████████| 14.1M/14.1M [00:02<00:00, 6.48MB/s]\n",
            "\n",
            "Overriding model.yaml nc=80 with nc=36\n",
            "\n",
            "                 from  n    params  module                                  arguments                     \n",
            "  0                -1  1      3520  models.common.Conv                      [3, 32, 6, 2, 2]              \n",
            "  1                -1  1     18560  models.common.Conv                      [32, 64, 3, 2]                \n",
            "  2                -1  1     18816  models.common.C3                        [64, 64, 1]                   \n",
            "  3                -1  1     73984  models.common.Conv                      [64, 128, 3, 2]               \n",
            "  4                -1  2    115712  models.common.C3                        [128, 128, 2]                 \n",
            "  5                -1  1    295424  models.common.Conv                      [128, 256, 3, 2]              \n",
            "  6                -1  3    625152  models.common.C3                        [256, 256, 3]                 \n",
            "  7                -1  1   1180672  models.common.Conv                      [256, 512, 3, 2]              \n",
            "  8                -1  1   1182720  models.common.C3                        [512, 512, 1]                 \n",
            "  9                -1  1    656896  models.common.SPPF                      [512, 512, 5]                 \n",
            " 10                -1  1    131584  models.common.Conv                      [512, 256, 1, 1]              \n",
            " 11                -1  1         0  torch.nn.modules.upsampling.Upsample    [None, 2, 'nearest']          \n",
            " 12           [-1, 6]  1         0  models.common.Concat                    [1]                           \n",
            " 13                -1  1    361984  models.common.C3                        [512, 256, 1, False]          \n",
            " 14                -1  1     33024  models.common.Conv                      [256, 128, 1, 1]              \n",
            " 15                -1  1         0  torch.nn.modules.upsampling.Upsample    [None, 2, 'nearest']          \n",
            " 16           [-1, 4]  1         0  models.common.Concat                    [1]                           \n",
            " 17                -1  1     90880  models.common.C3                        [256, 128, 1, False]          \n",
            " 18                -1  1    147712  models.common.Conv                      [128, 128, 3, 2]              \n",
            " 19          [-1, 14]  1         0  models.common.Concat                    [1]                           \n",
            " 20                -1  1    296448  models.common.C3                        [256, 256, 1, False]          \n",
            " 21                -1  1    590336  models.common.Conv                      [256, 256, 3, 2]              \n",
            " 22          [-1, 10]  1         0  models.common.Concat                    [1]                           \n",
            " 23                -1  1   1182720  models.common.C3                        [512, 512, 1, False]          \n",
            " 24      [17, 20, 23]  1    110577  models.yolo.Detect                      [36, [[10, 13, 16, 30, 33, 23], [30, 61, 62, 45, 59, 119], [116, 90, 156, 198, 373, 326]], [128, 256, 512]]\n",
            "Model summary: 270 layers, 7116721 parameters, 7116721 gradients, 16.2 GFLOPs\n",
            "\n",
            "Transferred 343/349 items from yolov5s.pt\n",
            "Scaled weight_decay = 0.0005\n",
            "\u001b[34m\u001b[1moptimizer:\u001b[0m SGD with parameter groups 57 weight (no decay), 60 weight, 60 bias\n",
            "\u001b[34m\u001b[1mtrain: \u001b[0mScanning '/home/muratbayrktr/Desktop/Avion/aircraft_detection/yolov5/../a\u001b[0m/usr/lib/python3/dist-packages/PIL/TiffImagePlugin.py:793: UserWarning: Corrupt EXIF data.  Expecting to read 2 bytes but only got 0. \n",
            "  warnings.warn(str(msg))\n",
            "\u001b[34m\u001b[1mtrain: \u001b[0mScanning '/home/muratbayrktr/Desktop/Avion/aircraft_detection/yolov5/../a\u001b[0m\n",
            "\u001b[34m\u001b[1mtrain: \u001b[0mWARNING: /home/muratbayrktr/Desktop/Avion/aircraft_detection/yolov5/../archive/dataset/dataset_yolov5/images/train/0659b84f8272d49753431dc808b8d4e1.jpg: corrupt JPEG restored and saved\n",
            "\u001b[34m\u001b[1mtrain: \u001b[0mWARNING: /home/muratbayrktr/Desktop/Avion/aircraft_detection/yolov5/../archive/dataset/dataset_yolov5/images/train/08b11baa46e2d9185dd9ee4af5ce89fc.jpg: corrupt JPEG restored and saved\n",
            "\u001b[34m\u001b[1mtrain: \u001b[0mWARNING: /home/muratbayrktr/Desktop/Avion/aircraft_detection/yolov5/../archive/dataset/dataset_yolov5/images/train/14dd66103e6399d3754f6bcb53fdead2.jpg: corrupt JPEG restored and saved\n",
            "\u001b[34m\u001b[1mtrain: \u001b[0mWARNING: /home/muratbayrktr/Desktop/Avion/aircraft_detection/yolov5/../archive/dataset/dataset_yolov5/images/train/1e8b43deca87d25180aba67557735c01.jpg: corrupt JPEG restored and saved\n",
            "\u001b[34m\u001b[1mtrain: \u001b[0mWARNING: /home/muratbayrktr/Desktop/Avion/aircraft_detection/yolov5/../archive/dataset/dataset_yolov5/images/train/2b80e26d24d077d2877caf97756db72d.jpg: corrupt JPEG restored and saved\n",
            "\u001b[34m\u001b[1mtrain: \u001b[0mWARNING: /home/muratbayrktr/Desktop/Avion/aircraft_detection/yolov5/../archive/dataset/dataset_yolov5/images/train/33e9eebd84173751f4de6d10c7cab0c4.jpg: corrupt JPEG restored and saved\n",
            "\u001b[34m\u001b[1mtrain: \u001b[0mWARNING: /home/muratbayrktr/Desktop/Avion/aircraft_detection/yolov5/../archive/dataset/dataset_yolov5/images/train/37cef25b6530c45a02acb1d30b56a15b.jpg: corrupt JPEG restored and saved\n",
            "\u001b[34m\u001b[1mtrain: \u001b[0mWARNING: /home/muratbayrktr/Desktop/Avion/aircraft_detection/yolov5/../archive/dataset/dataset_yolov5/images/train/393ff29b0978ed06efe8911631e1791e.jpg: corrupt JPEG restored and saved\n",
            "\u001b[34m\u001b[1mtrain: \u001b[0mWARNING: /home/muratbayrktr/Desktop/Avion/aircraft_detection/yolov5/../archive/dataset/dataset_yolov5/images/train/43718f36b529dc159a51b479e40eba8c.jpg: corrupt JPEG restored and saved\n",
            "\u001b[34m\u001b[1mtrain: \u001b[0mWARNING: /home/muratbayrktr/Desktop/Avion/aircraft_detection/yolov5/../archive/dataset/dataset_yolov5/images/train/4e9909c2d98befa16315dd814e990f22.jpg: corrupt JPEG restored and saved\n",
            "\u001b[34m\u001b[1mtrain: \u001b[0mWARNING: /home/muratbayrktr/Desktop/Avion/aircraft_detection/yolov5/../archive/dataset/dataset_yolov5/images/train/4ef1fa6020f23711cc0e06dc1e7dfdbc.jpg: corrupt JPEG restored and saved\n",
            "\u001b[34m\u001b[1mtrain: \u001b[0mWARNING: /home/muratbayrktr/Desktop/Avion/aircraft_detection/yolov5/../archive/dataset/dataset_yolov5/images/train/53407a519525715fe10f141958cd543a.jpg: corrupt JPEG restored and saved\n",
            "\u001b[34m\u001b[1mtrain: \u001b[0mWARNING: /home/muratbayrktr/Desktop/Avion/aircraft_detection/yolov5/../archive/dataset/dataset_yolov5/images/train/59e1d43b57f90388879e9da7599b3f75.jpg: corrupt JPEG restored and saved\n",
            "\u001b[34m\u001b[1mtrain: \u001b[0mWARNING: /home/muratbayrktr/Desktop/Avion/aircraft_detection/yolov5/../archive/dataset/dataset_yolov5/images/train/5ed8dd35ea5346ac1dc70a726411cd04.jpg: corrupt JPEG restored and saved\n",
            "\u001b[34m\u001b[1mtrain: \u001b[0mWARNING: /home/muratbayrktr/Desktop/Avion/aircraft_detection/yolov5/../archive/dataset/dataset_yolov5/images/train/767d90ca1d3649ff1732376341d961ca.jpg: corrupt JPEG restored and saved\n",
            "\u001b[34m\u001b[1mtrain: \u001b[0mWARNING: /home/muratbayrktr/Desktop/Avion/aircraft_detection/yolov5/../archive/dataset/dataset_yolov5/images/train/88c2d4d1d4f5ab539558cf4129cd9ef2.jpg: corrupt JPEG restored and saved\n",
            "\u001b[34m\u001b[1mtrain: \u001b[0mWARNING: /home/muratbayrktr/Desktop/Avion/aircraft_detection/yolov5/../archive/dataset/dataset_yolov5/images/train/a912ac8f44762b44a4916ad011437fbb.jpg: corrupt JPEG restored and saved\n",
            "\u001b[34m\u001b[1mtrain: \u001b[0mWARNING: /home/muratbayrktr/Desktop/Avion/aircraft_detection/yolov5/../archive/dataset/dataset_yolov5/images/train/b70799e73139409aeba1392d03ef4be9.jpg: corrupt JPEG restored and saved\n",
            "\u001b[34m\u001b[1mtrain: \u001b[0mWARNING: /home/muratbayrktr/Desktop/Avion/aircraft_detection/yolov5/../archive/dataset/dataset_yolov5/images/train/c28440d244bb289b61b19c6070657d6c.jpg: corrupt JPEG restored and saved\n",
            "\u001b[34m\u001b[1mtrain: \u001b[0mWARNING: /home/muratbayrktr/Desktop/Avion/aircraft_detection/yolov5/../archive/dataset/dataset_yolov5/images/train/cdfa23ff0a31e26db5af2ea32a07317e.jpg: corrupt JPEG restored and saved\n",
            "\u001b[34m\u001b[1mtrain: \u001b[0mWARNING: /home/muratbayrktr/Desktop/Avion/aircraft_detection/yolov5/../archive/dataset/dataset_yolov5/images/train/d317123762f868d87ef908cff801fe6f.jpg: corrupt JPEG restored and saved\n",
            "\u001b[34m\u001b[1mtrain: \u001b[0mWARNING: /home/muratbayrktr/Desktop/Avion/aircraft_detection/yolov5/../archive/dataset/dataset_yolov5/images/train/fe26e23dabe4618337df064573717487.jpg: corrupt JPEG restored and saved\n",
            "\u001b[34m\u001b[1mtrain: \u001b[0mNew cache created: /home/muratbayrktr/Desktop/Avion/aircraft_detection/yolov5/../archive/dataset/dataset_yolov5/labels/train.cache\n",
            "\u001b[34m\u001b[1mtrain: \u001b[0mCaching images (3.4GB ram): 100%|██████████| 4234/4234 [00:38<00:00, 110.\u001b[0m\n",
            "\u001b[34m\u001b[1mval: \u001b[0mScanning '/home/muratbayrktr/Desktop/Avion/aircraft_detection/yolov5/../arc\u001b[0m\n",
            "\u001b[34m\u001b[1mval: \u001b[0mWARNING: /home/muratbayrktr/Desktop/Avion/aircraft_detection/yolov5/../archive/dataset/dataset_yolov5/images/val/4f6335afb880904ed5ebae7ed55fd81b.jpg: corrupt JPEG restored and saved\n",
            "\u001b[34m\u001b[1mval: \u001b[0mWARNING: /home/muratbayrktr/Desktop/Avion/aircraft_detection/yolov5/../archive/dataset/dataset_yolov5/images/val/7a1054ee4e1158ad3bb2d2d7b1308cc6.jpg: corrupt JPEG restored and saved\n",
            "\u001b[34m\u001b[1mval: \u001b[0mWARNING: /home/muratbayrktr/Desktop/Avion/aircraft_detection/yolov5/../archive/dataset/dataset_yolov5/images/val/80ab29de242d75a6a3b08cf3eb08a415.jpg: corrupt JPEG restored and saved\n",
            "\u001b[34m\u001b[1mval: \u001b[0mWARNING: /home/muratbayrktr/Desktop/Avion/aircraft_detection/yolov5/../archive/dataset/dataset_yolov5/images/val/b6c3bb6faa6ef9065bcf32683404e621.jpg: corrupt JPEG restored and saved\n",
            "\u001b[34m\u001b[1mval: \u001b[0mWARNING: /home/muratbayrktr/Desktop/Avion/aircraft_detection/yolov5/../archive/dataset/dataset_yolov5/images/val/d37af747d93eb94c18d0c7150b845af2.jpg: corrupt JPEG restored and saved\n",
            "\u001b[34m\u001b[1mval: \u001b[0mNew cache created: /home/muratbayrktr/Desktop/Avion/aircraft_detection/yolov5/../archive/dataset/dataset_yolov5/labels/val.cache\n",
            "\u001b[34m\u001b[1mval: \u001b[0mCaching images (0.9GB ram): 100%|██████████| 1059/1059 [00:13<00:00, 77.12i\u001b[0m\n",
            "Plotting labels to yolov5/runs/train/exp3/labels.jpg... \n",
            "\n",
            "\u001b[34m\u001b[1mAutoAnchor: \u001b[0m3.66 anchors/target, 0.999 Best Possible Recall (BPR). Current anchors are a good fit to dataset ✅\n",
            "Image sizes 640 train, 640 val\n",
            "Using 8 dataloader workers\n",
            "Logging results to \u001b[1myolov5/runs/train/exp3\u001b[0m\n",
            "Starting training for 50 epochs...\n",
            "\n",
            "     Epoch   gpu_mem       box       obj       cls    labels  img_size\n",
            "      0/49     3.04G    0.1151   0.03255   0.09827        79       640:  12%|█▏ ^C\n"
          ]
        }
      ],
      "source": [
        "!python3 yolov5/train.py --img 640 --batch 16 --epochs 50 --data ./custom_data.yaml --weights yolov5s.pt --cache"
      ]
    }
  ],
  "metadata": {
    "colab": {
      "collapsed_sections": [],
      "name": "aircraft_detection.ipynb",
      "provenance": []
    },
    "kernelspec": {
      "display_name": "Python 3",
      "name": "python3"
    },
    "language_info": {
      "codemirror_mode": {
        "name": "ipython",
        "version": 3
      },
      "file_extension": ".py",
      "mimetype": "text/x-python",
      "name": "python",
      "nbconvert_exporter": "python",
      "pygments_lexer": "ipython3",
      "version": "3.9.7"
    }
  },
  "nbformat": 4,
  "nbformat_minor": 0
}
